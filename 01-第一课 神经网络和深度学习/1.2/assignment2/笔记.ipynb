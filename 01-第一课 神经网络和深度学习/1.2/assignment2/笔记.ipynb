{
 "cells": [
  {
   "cell_type": "code",
   "execution_count": 5,
   "metadata": {},
   "outputs": [
    {
     "name": "stdout",
     "output_type": "stream",
     "text": [
      "默认参数(矩阵整体元素平方和开根号，不保留矩阵二维特性)： 8.831760866327848\n",
      "矩阵整体元素平方和开根号，保留矩阵二维特性： [[8.83176087]]\n",
      "矩阵每个行向量求向量的2范数： [[5.        ]\n",
      " [7.28010989]]\n",
      "矩阵每个列向量求向量的2范数： [[1.         6.70820393 5.65685425]]\n",
      "矩阵1范数： [[9.]]\n",
      "矩阵2范数： [[8.70457079]]\n",
      "矩阵∞范数： [[11.]]\n",
      "矩阵每个行向量求向量的1范数： [[ 7.]\n",
      " [11.]]\n"
     ]
    }
   ],
   "source": [
    "''' \n",
    "矩阵的范数：\n",
    "ord=1：列和的最大值\n",
    "ord=2：|λE-ATA|=0，求特征值，然后求最大特征值得算术平方根\n",
    "ord=∞：行和的最大值\n",
    "ord=None：默认情况下，是求整体的矩阵元素平方和，再开根号。（没仔细看，以为默认情况下就是矩阵的二范数，修正一下，默认情况下是求整个矩阵元素平方和再开根号）\n",
    "\n",
    "axis：处理类型\n",
    "axis=1表示按行向量处理，求多个行向量的范数\n",
    "axis=0表示按列向量处理，求多个列向量的范数\n",
    "axis=None表示矩阵范数。\n",
    "\n",
    "keepding：是否保持矩阵的二维特性\n",
    "True表示保持矩阵的二维特性，False相反\n",
    "'''\n",
    "\n",
    "# -*- coding: utf-8 -*-\n",
    "import numpy as np\n",
    "x = np.array([\n",
    "    [0, 3, 4],\n",
    "    [1, 6, 4]])\n",
    "#默认参数ord=None，axis=None，keepdims=False\n",
    "print (\"默认参数(矩阵整体元素平方和开根号，不保留矩阵二维特性)：\",np.linalg.norm(x))\n",
    "print (\"矩阵整体元素平方和开根号，保留矩阵二维特性：\",np.linalg.norm(x,keepdims=True))\n",
    " \n",
    "print (\"矩阵每个行向量求向量的2范数：\",np.linalg.norm(x,axis=1,keepdims=True))\n",
    "print (\"矩阵每个列向量求向量的2范数：\",np.linalg.norm(x,axis=0,keepdims=True))\n",
    " \n",
    "print (\"矩阵1范数：\",np.linalg.norm(x,ord=1,keepdims=True))\n",
    "print (\"矩阵2范数：\",np.linalg.norm(x,ord=2,keepdims=True))\n",
    "print (\"矩阵∞范数：\",np.linalg.norm(x,ord=np.inf,keepdims=True))\n",
    " \n",
    "print (\"矩阵每个行向量求向量的1范数：\",np.linalg.norm(x,ord=1,axis=1,keepdims=True))\n"
   ]
  },
  {
   "cell_type": "code",
   "execution_count": null,
   "metadata": {},
   "outputs": [],
   "source": []
  },
  {
   "cell_type": "code",
   "execution_count": null,
   "metadata": {},
   "outputs": [],
   "source": []
  }
 ],
 "metadata": {
  "kernelspec": {
   "display_name": "Python [conda env:python36]",
   "language": "python",
   "name": "conda-env-python36-py"
  },
  "language_info": {
   "codemirror_mode": {
    "name": "ipython",
    "version": 3
   },
   "file_extension": ".py",
   "mimetype": "text/x-python",
   "name": "python",
   "nbconvert_exporter": "python",
   "pygments_lexer": "ipython3",
   "version": "3.6.7"
  }
 },
 "nbformat": 4,
 "nbformat_minor": 2
}
