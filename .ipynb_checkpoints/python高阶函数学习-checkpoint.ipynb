{
 "cells": [
  {
   "cell_type": "code",
   "execution_count": 5,
   "metadata": {},
   "outputs": [
    {
     "data": {
      "text/plain": [
       "[1, 4, 9]"
      ]
     },
     "execution_count": 5,
     "metadata": {},
     "output_type": "execute_result"
    }
   ],
   "source": [
    "#--*encoding:utf-8--*\n",
    "#高阶函数\n",
    "#map()函数接收两个参数，一个是函数，一个是Iterable，map将传入的函数依次作用到序列的每个元素，并把结果作为新的Iterator返回。\n",
    "def f(x):\n",
    "    return x*x\n",
    "r=map(f,[1,2,3])\n",
    "list(r)"
   ]
  },
  {
   "cell_type": "code",
   "execution_count": 6,
   "metadata": {},
   "outputs": [
    {
     "data": {
      "text/plain": [
       "25"
      ]
     },
     "execution_count": 6,
     "metadata": {},
     "output_type": "execute_result"
    }
   ],
   "source": [
    "# reduce把一个函数作用在一个序列[x1, x2, x3, ...]上，这个函数必须接收两个参数，reduce把结果继续和序列的下一个元素做累积计算\n",
    "from functools import reduce\n",
    "def add(x, y):\n",
    "    return x + y\n",
    "\n",
    "reduce(add, [1, 3, 5, 7, 9])\n",
    "#返回1+2+3+4+5=25"
   ]
  },
  {
   "cell_type": "code",
   "execution_count": 7,
   "metadata": {},
   "outputs": [
    {
     "data": {
      "text/plain": [
       "123"
      ]
     },
     "execution_count": 7,
     "metadata": {},
     "output_type": "execute_result"
    }
   ],
   "source": [
    "# str to int\n",
    "from functools import reduce\n",
    "\n",
    "DIGITS = {'0': 0, '1': 1, '2': 2, '3': 3, '4': 4, '5': 5, '6': 6, '7': 7, '8': 8, '9': 9}\n",
    "\n",
    "def char2num(s):\n",
    "    return DIGITS[s]\n",
    "\n",
    "def str2int(s):\n",
    "    return reduce(lambda x, y: x * 10 + y, map(char2num, s))\n",
    "str2int(\"123\")\n",
    "\n",
    "#解释\n",
    "#str2int(\"123\")=reduce(lambda x, y: x * 10 + y, map(char2num, “123”))\n",
    "#123转换为数字1 2 3\n",
    "# 1*10+2=12 12*10+3=123"
   ]
  },
  {
   "cell_type": "code",
   "execution_count": 8,
   "metadata": {},
   "outputs": [
    {
     "data": {
      "text/plain": [
       "['A', 'B', 'C']"
      ]
     },
     "execution_count": 8,
     "metadata": {},
     "output_type": "execute_result"
    }
   ],
   "source": [
    "#Python内建的filter()函数用于过滤序列。\n",
    "#把一个序列中的空字符串删掉，可以这么写：\n",
    "\n",
    "def not_empty(s):\n",
    "    return s and s.strip()\n",
    "\n",
    "list(filter(not_empty, ['A', '', 'B', None, 'C', '  ']))"
   ]
  },
  {
   "cell_type": "markdown",
   "metadata": {},
   "source": [
    "用filter求素数\n",
    "计算素数的一个方法是埃氏筛法，它的算法理解起来非常简单：\n",
    "\n",
    "首先，列出从2开始的所有自然数，构造一个序列：\n",
    "\n",
    "2, 3, 4, 5, 6, 7, 8, 9, 10, 11, 12, 13, 14, 15, 16, 17, 18, 19, 20, ...\n",
    "\n",
    "取序列的第一个数2，它一定是素数，然后用2把序列的2的倍数筛掉：\n",
    "\n",
    "3, 4, 5, 6, 7, 8, 9, 10, 11, 12, 13, 14, 15, 16, 17, 18, 19, 20, ...\n",
    "\n",
    "取新序列的第一个数3，它一定是素数，然后用3把序列的3的倍数筛掉：\n",
    "\n",
    "5, 6, 7, 8, 9, 10, 11, 12, 13, 14, 15, 16, 17, 18, 19, 20, ...\n",
    "\n",
    "取新序列的第一个数5，然后用5把序列的5的倍数筛掉：\n",
    "\n",
    "7, 8, 9, 10, 11, 12, 13, 14, 15, 16, 17, 18, 19, 20, ...\n",
    "\n",
    "不断筛下去，就可以得到所有的素数。\n",
    "\n",
    "用Python来实现这个算法，可以先构造一个从3开始的奇数序列："
   ]
  },
  {
   "cell_type": "code",
   "execution_count": null,
   "metadata": {},
   "outputs": [],
   "source": []
  }
 ],
 "metadata": {
  "kernelspec": {
   "display_name": "exercise",
   "language": "python",
   "name": "exercise"
  },
  "language_info": {
   "codemirror_mode": {
    "name": "ipython",
    "version": 3
   },
   "file_extension": ".py",
   "mimetype": "text/x-python",
   "name": "python",
   "nbconvert_exporter": "python",
   "pygments_lexer": "ipython3",
   "version": "3.6.5"
  }
 },
 "nbformat": 4,
 "nbformat_minor": 2
}
